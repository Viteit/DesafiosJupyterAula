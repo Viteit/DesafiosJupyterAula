{
 "cells": [
  {
   "attachments": {},
   "cell_type": "markdown",
   "metadata": {},
   "source": [
    "# Crie um programa que escreva \"Olá, Mundo!\" na tela."
   ]
  },
  {
   "cell_type": "code",
   "execution_count": null,
   "metadata": {},
   "outputs": [
    {
     "name": "stdout",
     "output_type": "stream",
     "text": [
      "olá, Mundo!\n"
     ]
    }
   ],
   "source": [
    "msg = 'olá, Mundo!'\n",
    "print(msg)"
   ]
  },
  {
   "attachments": {},
   "cell_type": "markdown",
   "metadata": {},
   "source": [
    "# Faça um programa que leia o nome de uma pessoa e mostre uma mensagem de boas-vindas."
   ]
  },
  {
   "cell_type": "code",
   "execution_count": null,
   "metadata": {},
   "outputs": [],
   "source": [
    "nome = input('Qual é o seu nome?')\n",
    "print('seja bem-vind0' + nome)"
   ]
  },
  {
   "attachments": {},
   "cell_type": "markdown",
   "metadata": {},
   "source": [
    "# Crie um programa que leia dois número e mostre a soma entre eles."
   ]
  },
  {
   "cell_type": "code",
   "execution_count": 3,
   "metadata": {},
   "outputs": [
    {
     "name": "stdout",
     "output_type": "stream",
     "text": [
      "A soma entre 2 e 5 é igual a 7\n"
     ]
    }
   ],
   "source": [
    "num1 = float(input('digite o primeiro número:'))\n",
    "nun2 = float(input('digite o segundo número:'))\n",
    "soma = num1 + num2\n",
    "print('A soma entre {nun1} e {num2} é igual a 7')"
   ]
  },
  {
   "attachments": {},
   "cell_type": "markdown",
   "metadata": {},
   "source": [
    "# Faça um programa que leia algo pelo teclado e mostre na tela o seu tipo primitivo e todas as informações possiveis sobre ele."
   ]
  },
  {
   "cell_type": "code",
   "execution_count": null,
   "metadata": {},
   "outputs": [],
   "source": [
    "# le oque foi digitado\n",
    "valor = input(\"Digite algo: \")\n",
    "\n",
    "#verifica\n",
    "\n",
    "#tipo primitivo\n",
    "print(\"O tipo primitivo de '{}' é {}\".format(valor, type(valor)))\n",
    "\n",
    "#valor numérico\n",
    "if valor.isnumeric():\n",
    "    print(\"O valor digitado é um número.\")\n",
    "else:\n",
    "    print(\"O valor digitado não é um número.\")\n",
    "\n",
    "#valor é alfabético\n",
    "if valor.isalpha():\n",
    "    print(\"O valor digitado é composto apenas por letras.\")\n",
    "else:\n",
    "    print(\"O valor digitado não é composto apenas por letras.\")\n",
    "\n",
    "#valor é alfanumérico\n",
    "if valor.isalnum():\n",
    "    print(\"O valor digitado é alfanumérico.\")\n",
    "else:\n",
    "    print(\"O valor digitado não é alfanumérico.\")\n",
    "\n",
    "#está em letras maiúsculas\n",
    "if valor.isupper():\n",
    "    print(\"O valor digitado está em letras maiúsculas.\")\n",
    "else:\n",
    "    print(\"O valor digitado não está em letras maiúsculas.\")\n",
    "\n",
    "#esta em letras minúsculas\n",
    "if valor.islower():\n",
    "    print(\"O valor digitado está em letras minúsculas.\")\n",
    "else:\n",
    "    print(\"O valor digitado não está em letras minúsculas.\")"
   ]
  },
  {
   "attachments": {},
   "cell_type": "markdown",
   "metadata": {},
   "source": [
    "# Faça um programa que leia um número inteiro e mostre na tela o seu sucessor e seu antecessor."
   ]
  },
  {
   "cell_type": "code",
   "execution_count": 5,
   "metadata": {},
   "outputs": [
    {
     "name": "stdout",
     "output_type": "stream",
     "text": [
      "Analisando o número 2, seu antecessor é 1, e o sucessor é 3.\n"
     ]
    }
   ],
   "source": [
    "numero = int(input('digite um numero!'))\n",
    "antecessor = numero - 1 \n",
    "sucessor = numero + 1\n",
    "\n",
    "print('analisando o número', numero, ', seu antecessor é', antecessor,', e seu sucessor é', sucessor )"
   ]
  }
 ],
 "metadata": {
  "kernelspec": {
   "display_name": "venv",
   "language": "python",
   "name": "python3"
  },
  "language_info": {
   "codemirror_mode": {
    "name": "ipython",
    "version": 3
   },
   "file_extension": ".py",
   "mimetype": "text/x-python",
   "name": "python",
   "nbconvert_exporter": "python",
   "pygments_lexer": "ipython3",
   "version": "3.10.10"
  },
  "orig_nbformat": 4
 },
 "nbformat": 4,
 "nbformat_minor": 2
}

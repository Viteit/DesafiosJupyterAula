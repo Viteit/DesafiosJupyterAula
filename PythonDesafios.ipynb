{
 "cells": [
  {
   "attachments": {},
   "cell_type": "markdown",
   "metadata": {},
   "source": [
    "# Crie um programa que escreva \"Olá, Mundo!\" na tela."
   ]
  },
  {
   "cell_type": "code",
   "execution_count": 2,
   "metadata": {},
   "outputs": [
    {
     "name": "stdout",
     "output_type": "stream",
     "text": [
      "Olá, mundo!\n"
     ]
    }
   ],
   "source": [
    "print('Olá, mundo!')"
   ]
  },
  {
   "attachments": {},
   "cell_type": "markdown",
   "metadata": {},
   "source": [
    "# Faça um programa que leia o nome de uma pessoa e mostre uma mensagem de boas-vindas."
   ]
  },
  {
   "cell_type": "code",
   "execution_count": 1,
   "metadata": {},
   "outputs": [
    {
     "name": "stdout",
     "output_type": "stream",
     "text": [
      "Sejam bem vindos Victor e Vitor\n"
     ]
    }
   ],
   "source": [
    "pessoa1 = 'Victor'\n",
    "pessoa2 = 'Vitor'\n",
    "\n",
    "print('Sejam bem vindos', pessoa1, 'e', pessoa2)"
   ]
  },
  {
   "attachments": {},
   "cell_type": "markdown",
   "metadata": {},
   "source": [
    "# Crie um programa que leia dois número e mostre a soma entre eles."
   ]
  },
  {
   "cell_type": "code",
   "execution_count": 4,
   "metadata": {},
   "outputs": [
    {
     "name": "stdout",
     "output_type": "stream",
     "text": [
      "A soma entre 12.0 e 1312.0 é igual a 1324.0\n"
     ]
    }
   ],
   "source": [
    "numero1 = float(input('Digite o primeiro número: '))\n",
    "numero2 = float(input('Digite o segundo número: '))\n",
    "resultadosoma = numero1+numero2\n",
    "\n",
    "print('A soma entre {} e {} é igual a {}'.format(numero1, numero2, resultadosoma))"
   ]
  },
  {
   "attachments": {},
   "cell_type": "markdown",
   "metadata": {},
   "source": [
    "# Faça um programa que leia algo pelo teclado e mostre na tela o seu tipo primitivo e todas as informações possiveis sobre ele."
   ]
  },
  {
   "cell_type": "code",
   "execution_count": 8,
   "metadata": {},
   "outputs": [
    {
     "name": "stdout",
     "output_type": "stream",
     "text": [
      "O tipo primitivo desse valor é <class 'str'>\n",
      "Só tem espaços? False\n",
      "É um número? False\n",
      "É alfabético? True\n",
      "É alfanumérico? True\n",
      "Está em maiúsculas? True\n",
      "Está em minúsculas? False\n",
      "Está capitalizado? True\n"
     ]
    }
   ],
   "source": [
    "checar = (input('Digite o caractere: '))\n",
    "\n",
    "tipo = type(checar)\n",
    "\n",
    "so_tem_espacos = checar.isspace()\n",
    "\n",
    "e_um_numero = checar.isnumeric()\n",
    "\n",
    "e_alfabetico = checar.isalpha()\n",
    "\n",
    "e_alfanumerico = checar.isalnum()\n",
    "\n",
    "esta_em_maiusculas = checar.isupper()\n",
    "\n",
    "esta_em_minusculas = checar.islower()\n",
    "\n",
    "esta_capitalizado = checar.istitle()\n",
    "\n",
    "print('O tipo primitivo desse valor é', tipo)\n",
    "print('Só tem espaços?', so_tem_espacos)\n",
    "print('É um número?', e_um_numero)\n",
    "print('É alfabético?', e_alfabetico)\n",
    "print('É alfanumérico?', e_alfanumerico)\n",
    "print('Está em maiúsculas?', esta_em_maiusculas)\n",
    "print('Está em minúsculas?', esta_em_minusculas)\n",
    "print('Está capitalizado?', esta_capitalizado)"
   ]
  },
  {
   "attachments": {},
   "cell_type": "markdown",
   "metadata": {},
   "source": [
    "# Faça um programa que leia um número inteiro e mostre na tela o seu sucessor e seu antecessor."
   ]
  },
  {
   "cell_type": "code",
   "execution_count": 10,
   "metadata": {},
   "outputs": [
    {
     "name": "stdout",
     "output_type": "stream",
     "text": [
      "Analisando o número 4, seu antecessor é 3, e o seu sucessor é 5\n"
     ]
    }
   ],
   "source": [
    "inteiro = int(input('Digite o seu número inteiro:'))\n",
    "\n",
    "antecessor = inteiro-1\n",
    "\n",
    "sucessor = inteiro+1\n",
    "\n",
    "print('Analisando o número {}, seu antecessor é {}, e o seu sucessor é {}'.format(inteiro, antecessor, sucessor))"
   ]
  }
 ],
 "metadata": {
  "kernelspec": {
   "display_name": "venv",
   "language": "python",
   "name": "python3"
  },
  "language_info": {
   "codemirror_mode": {
    "name": "ipython",
    "version": 3
   },
   "file_extension": ".py",
   "mimetype": "text/x-python",
   "name": "python",
   "nbconvert_exporter": "python",
   "pygments_lexer": "ipython3",
   "version": "3.11.0"
  },
  "orig_nbformat": 4
 },
 "nbformat": 4,
 "nbformat_minor": 2
}

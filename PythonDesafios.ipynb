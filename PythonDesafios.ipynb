{
 "cells": [
  {
   "attachments": {},
   "cell_type": "markdown",
   "metadata": {},
   "source": [
    "# Crie um programa que escreva \"Olá, Mundo!\" na tela."
   ]
  },
  {
   "cell_type": "code",
   "execution_count": null,
   "metadata": {},
   "outputs": [
    {
     "name": "stdout",
     "output_type": "stream",
     "text": [
      "olá, Mundo!\n"
     ]
    }
   ],
   "source": [
    "msg = 'olá, Mundo!'\n",
    "print(msg)"
   ]
  },
  {
   "attachments": {},
   "cell_type": "markdown",
   "metadata": {},
   "source": [
    "# Faça um programa que leia o nome de uma pessoa e mostre uma mensagem de boas-vindas."
   ]
  },
  {
   "cell_type": "code",
   "execution_count": null,
   "metadata": {},
   "outputs": [],
   "source": [
    "nome = input('Qual é o seu nome?')\n",
    "print('seja bem-vind0' + nome)"
   ]
  },
  {
   "attachments": {},
   "cell_type": "markdown",
   "metadata": {},
   "source": [
    "# Crie um programa que leia dois número e mostre a soma entre eles."
   ]
  },
  {
   "cell_type": "code",
   "execution_count": 6,
   "metadata": {},
   "outputs": [
    {
     "name": "stdout",
     "output_type": "stream",
     "text": [
      "A soma entre 1.0 e 7.0 é igual a 8.0\n"
     ]
    }
   ],
   "source": [
    "num1 = float(input('digite o primeiro número:'))\n",
    "num2 = float(input('digite o segundo número:'))\n",
    "soma = num1 + num2\n",
    "print(f'A soma entre {num1} e {num2} é igual a {num1 + num2}')"
   ]
  },
  {
   "attachments": {},
   "cell_type": "markdown",
   "metadata": {},
   "source": [
    "# Faça um programa que leia algo pelo teclado e mostre na tela o seu tipo primitivo e todas as informações possiveis sobre ele."
   ]
  },
  {
   "cell_type": "code",
   "execution_count": 7,
   "metadata": {},
   "outputs": [
    {
     "name": "stdout",
     "output_type": "stream",
     "text": [
      "O tipo primitivo de 'vitor' é <class 'str'>\n",
      "O valor digitado não é um número.\n",
      "O valor digitado é composto apenas por letras.\n",
      "O valor digitado é alfanumérico.\n",
      "O valor digitado não está em letras maiúsculas.\n",
      "O valor digitado está em letras minúsculas.\n"
     ]
    }
   ],
   "source": [
    "# le oque foi digitado\n",
    "valor = input(\"Digite algo: \")\n",
    "\n",
    "#verifica\n",
    "\n",
    "#tipo primitivo\n",
    "print(f\"O tipo primitivo de '{valor}' é {type(valor)}\")\n",
    "\n",
    "#valor numérico\n",
    "if valor.isnumeric():\n",
    "    print(\"O valor digitado é um número.\")\n",
    "else:\n",
    "    print(\"O valor digitado não é um número.\")\n",
    "\n",
    "#valor é alfabético\n",
    "if valor.isalpha():\n",
    "    print(\"O valor digitado é composto apenas por letras.\")\n",
    "else:\n",
    "    print(\"O valor digitado não é composto apenas por letras.\")\n",
    "\n",
    "#valor é alfanumérico\n",
    "if valor.isalnum():\n",
    "    print(\"O valor digitado é alfanumérico.\")\n",
    "else:\n",
    "    print(\"O valor digitado não é alfanumérico.\")\n",
    "\n",
    "#está em letras maiúsculas\n",
    "if valor.isupper():\n",
    "    print(\"O valor digitado está em letras maiúsculas.\")\n",
    "else:\n",
    "    print(\"O valor digitado não está em letras maiúsculas.\")\n",
    "\n",
    "#esta em letras minúsculas\n",
    "if valor.islower():\n",
    "    print(\"O valor digitado está em letras minúsculas.\")\n",
    "else:\n",
    "    print(\"O valor digitado não está em letras minúsculas.\")"
   ]
  },
  {
   "attachments": {},
   "cell_type": "markdown",
   "metadata": {},
   "source": [
    "# Faça um programa que leia um número inteiro e mostre na tela o seu sucessor e seu antecessor."
   ]
  },
  {
   "cell_type": "code",
   "execution_count": 10,
   "metadata": {},
   "outputs": [
    {
     "name": "stdout",
     "output_type": "stream",
     "text": [
      "analisando o número 4, seu antecessor é 3 e seu sucessor é 5\n"
     ]
    }
   ],
   "source": [
    "numero = int(input('digite um numero!'))\n",
    "\n",
    "print(f'analisando o número {numero}, seu antecessor é {numero - 1} e seu sucessor é {numero + 1}')"
   ]
  }
 ],
 "metadata": {
  "kernelspec": {
   "display_name": "venv",
   "language": "python",
   "name": "python3"
  },
  "language_info": {
   "codemirror_mode": {
    "name": "ipython",
    "version": 3
   },
   "file_extension": ".py",
   "mimetype": "text/x-python",
   "name": "python",
   "nbconvert_exporter": "python",
   "pygments_lexer": "ipython3",
   "version": "3.11.2"
  },
  "orig_nbformat": 4
 },
 "nbformat": 4,
 "nbformat_minor": 2
}

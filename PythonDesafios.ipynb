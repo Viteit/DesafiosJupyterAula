{
 "cells": [
  {
   "attachments": {},
   "cell_type": "markdown",
   "metadata": {},
   "source": [
    "# Crie um programa que escreva \"Olá, Mundo!\" na tela."
   ]
  },
  {
   "cell_type": "code",
   "execution_count": 49,
   "metadata": {},
   "outputs": [
    {
     "name": "stdout",
     "output_type": "stream",
     "text": [
      "Olá, Mundo!\n"
     ]
    }
   ],
   "source": [
    "print(\"Olá, Mundo!\")"
   ]
  },
  {
   "attachments": {},
   "cell_type": "markdown",
   "metadata": {},
   "source": [
    "# Faça um programa que leia o nome de uma pessoa e mostre uma mensagem de boas-vindas."
   ]
  },
  {
   "cell_type": "code",
   "execution_count": 50,
   "metadata": {},
   "outputs": [
    {
     "name": "stdout",
     "output_type": "stream",
     "text": [
      "Sejam bem vindos Vitor e Vinicius.\n"
     ]
    }
   ],
   "source": [
    "nome1 = \"Vitor\"\n",
    "nome2 = \"Vinicius\"\n",
    "\n",
    "print(\"Sejam bem vindos \" + nome1 + \" e \" + nome2 + \".\")"
   ]
  },
  {
   "attachments": {},
   "cell_type": "markdown",
   "metadata": {},
   "source": [
    "# Crie um programa que leia dois número e mostre a soma entre eles."
   ]
  },
  {
   "cell_type": "code",
   "execution_count": 51,
   "metadata": {},
   "outputs": [
    {
     "ename": "TypeError",
     "evalue": "'str' object is not callable",
     "output_type": "error",
     "traceback": [
      "\u001b[0;31m---------------------------------------------------------------------------\u001b[0m",
      "\u001b[0;31mTypeError\u001b[0m                                 Traceback (most recent call last)",
      "Cell \u001b[0;32mIn[51], line 1\u001b[0m\n\u001b[0;32m----> 1\u001b[0m num1 \u001b[39m=\u001b[39m \u001b[39mfloat\u001b[39m(\u001b[39minput\u001b[39;49m(\u001b[39m\"\u001b[39;49m\u001b[39mDigite um número: \u001b[39;49m\u001b[39m\"\u001b[39;49m))\n\u001b[1;32m      2\u001b[0m num2 \u001b[39m=\u001b[39m \u001b[39mfloat\u001b[39m(\u001b[39minput\u001b[39m(\u001b[39m\"\u001b[39m\u001b[39mDigite outro número: \u001b[39m\u001b[39m\"\u001b[39m))\n\u001b[1;32m      4\u001b[0m \u001b[39msum\u001b[39m \u001b[39m=\u001b[39m num1 \u001b[39m+\u001b[39m num2\n",
      "\u001b[0;31mTypeError\u001b[0m: 'str' object is not callable"
     ]
    }
   ],
   "source": [
    "num1 = float(input(\"Digite um número: \"))\n",
    "num2 = float(input(\"Digite outro número: \"))\n",
    "\n",
    "sum = num1 + num2\n",
    "print(\"A soma de\", num1, \"com\", num2, \"é igual a\", sum)"
   ]
  },
  {
   "attachments": {},
   "cell_type": "markdown",
   "metadata": {},
   "source": [
    "# Faça um programa que leia algo pelo teclado e mostre na tela o seu tipo primitivo e todas as informações possiveis sobre ele."
   ]
  },
  {
   "cell_type": "code",
   "execution_count": null,
   "metadata": {},
   "outputs": [
    {
     "name": "stdout",
     "output_type": "stream",
     "text": [
      "Seu valor foi: Alex\n",
      "O tipo primitivo desse valor é <class 'str'>\n",
      "Só tem espaços?  False\n",
      "É um número?  False\n",
      "É alfabético?  True\n",
      "É alfanumérico?  True\n",
      "Está em maiúsculas?  False\n",
      "Está em minúsculas?  False\n",
      "Está capitalizada?  True\n"
     ]
    }
   ],
   "source": [
    "input = input(\"Digite: \")\n",
    "print(\"Seu valor foi:\", input)\n",
    "\n",
    "print(\"O tipo primitivo desse valor é\", type(input))\n",
    "\n",
    "print(\"Só tem espaços? \", input.isspace())\n",
    "\n",
    "print(\"É um número? \", input.isnumeric())\n",
    "\n",
    "print(\"É alfabético? \", input.isalpha())\n",
    "\n",
    "print(\"É alfanumérico? \", input.isalnum())\n",
    "\n",
    "print(\"Está em maiúsculas? \", input.isupper())\n",
    "\n",
    "print(\"Está em minúsculas? \", input.islower())\n",
    "\n",
    "print(\"Está capitalizada? \", input.istitle())"
   ]
  },
  {
   "attachments": {},
   "cell_type": "markdown",
   "metadata": {},
   "source": [
    "# Faça um programa que leia um número inteiro e mostre na tela o seu sucessor e seu antecessor."
   ]
  },
  {
   "cell_type": "code",
   "execution_count": 8,
   "metadata": {},
   "outputs": [
    {
     "name": "stdout",
     "output_type": "stream",
     "text": [
      "O número escolhido foi11, o seu antecessor é10e seu sucessor é12.\n"
     ]
    }
   ],
   "source": [
    "num = int(input(\"Digite numero: \"))\n",
    "# num = 5\n",
    "successor = num + 1\n",
    "previous = num - 1\n",
    "\n",
    "print(\"O número escolhido foi \", num, \", o seu antecessor é \", previous, \" e seu sucessor é \", successor, \".\", sep=\"\")"
   ]
  }
 ],
 "metadata": {
  "kernelspec": {
   "display_name": "venv",
   "language": "python",
   "name": "python3"
  },
  "language_info": {
   "codemirror_mode": {
    "name": "ipython",
    "version": 3
   },
   "file_extension": ".py",
   "mimetype": "text/x-python",
   "name": "python",
   "nbconvert_exporter": "python",
   "pygments_lexer": "ipython3",
   "version": "3.9.6"
  },
  "orig_nbformat": 4
 },
 "nbformat": 4,
 "nbformat_minor": 2
}

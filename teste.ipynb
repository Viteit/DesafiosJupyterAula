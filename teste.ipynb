{
 "cells": [
  {
   "cell_type": "code",
   "execution_count": 1,
   "metadata": {},
   "outputs": [
    {
     "name": "stdout",
     "output_type": "stream",
     "text": [
      "Você não é obrigado a votar\n"
     ]
    }
   ],
   "source": [
    "resposta=int( input('Qual sua idade: ') )\n",
    "\n",
    "if resposta>=18 and resposta <=65:\n",
    "    print('Você é obrigado a votar!')\n",
    "else:\n",
    "    print('Você não é obrigado a votar')"
   ]
  },
  {
   "cell_type": "code",
   "execution_count": 17,
   "metadata": {},
   "outputs": [
    {
     "name": "stdout",
     "output_type": "stream",
     "text": [
      "1. Idoso\n",
      "2. Gestante\n",
      "3. Cadeirante\n",
      "4. Nenhum destes\n"
     ]
    },
    {
     "ename": "ValueError",
     "evalue": "invalid literal for int() with base 10: ''",
     "output_type": "error",
     "traceback": [
      "\u001b[1;31m---------------------------------------------------------------------------\u001b[0m",
      "\u001b[1;31mValueError\u001b[0m                                Traceback (most recent call last)",
      "Cell \u001b[1;32mIn[17], line 5\u001b[0m\n\u001b[0;32m      3\u001b[0m \u001b[39mprint\u001b[39m(\u001b[39m'\u001b[39m\u001b[39m3. Cadeirante\u001b[39m\u001b[39m'\u001b[39m)\n\u001b[0;32m      4\u001b[0m \u001b[39mprint\u001b[39m(\u001b[39m'\u001b[39m\u001b[39m4. Nenhum destes\u001b[39m\u001b[39m'\u001b[39m)\n\u001b[1;32m----> 5\u001b[0m resposta\u001b[39m=\u001b[39m\u001b[39mint\u001b[39;49m( \u001b[39minput\u001b[39;49m(\u001b[39m'\u001b[39;49m\u001b[39mVocê é: \u001b[39;49m\u001b[39m'\u001b[39;49m) )\n\u001b[0;32m      7\u001b[0m \u001b[39mif\u001b[39;00m (resposta\u001b[39m==\u001b[39m\u001b[39m1\u001b[39m) \u001b[39mor\u001b[39;00m (resposta\u001b[39m==\u001b[39m\u001b[39m2\u001b[39m) \u001b[39mor\u001b[39;00m (resposta\u001b[39m==\u001b[39m\u001b[39m3\u001b[39m):\n\u001b[0;32m      8\u001b[0m     \u001b[39mprint\u001b[39m(\u001b[39m'\u001b[39m\u001b[39mVocê tem direito a fila prioritária\u001b[39m\u001b[39m'\u001b[39m)\n",
      "\u001b[1;31mValueError\u001b[0m: invalid literal for int() with base 10: ''"
     ]
    }
   ],
   "source": [
    "print('1. Idoso')\n",
    "print('2. Gestante')\n",
    "print('3. Cadeirante')\n",
    "print('4. Nenhum destes')\n",
    "resposta=int( input('Você é: ') )\n",
    "\n",
    "if (resposta==1) or (resposta==2) or (resposta==3):\n",
    "    print('Você tem direito a fila prioritária')\n",
    "elif (resposta>1) and (resposta<4):\n",
    "    print('Esses valores não são permitidos')\n",
    "else:\n",
    "    print('Você não tem direito a nada. Vá pra fila e fique quieto')"
   ]
  }
 ],
 "metadata": {
  "kernelspec": {
   "display_name": "venv",
   "language": "python",
   "name": "python3"
  },
  "language_info": {
   "codemirror_mode": {
    "name": "ipython",
    "version": 3
   },
   "file_extension": ".py",
   "mimetype": "text/x-python",
   "name": "python",
   "nbconvert_exporter": "python",
   "pygments_lexer": "ipython3",
   "version": "3.11.2"
  },
  "orig_nbformat": 4
 },
 "nbformat": 4,
 "nbformat_minor": 2
}
